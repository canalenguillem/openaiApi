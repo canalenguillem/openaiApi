{
 "cells": [
  {
   "cell_type": "code",
   "execution_count": 1,
   "metadata": {},
   "outputs": [
    {
     "name": "stdout",
     "output_type": "stream",
     "text": [
      "clave de openAI cargada correctamente\n"
     ]
    }
   ],
   "source": [
    "from dotenv import load_dotenv\n",
    "import os\n",
    "\n",
    "#CARGAR LAS VARIABLES DE ENTORNO\n",
    "load_dotenv()\n",
    "\n",
    "#obtener la api de openai\n",
    "openai_api_key=os.getenv(\"OPENAI_API_KEY\")\n",
    "\n",
    "#VERIFICAR API KEY\n",
    "if openai_api_key:\n",
    "    print(\"clave de openAI cargada correctamente\")\n",
    "else:\n",
    "    print(\"error cargando clave de openAI\")\n"
   ]
  },
  {
   "cell_type": "code",
   "execution_count": 3,
   "metadata": {},
   "outputs": [],
   "source": [
    "from openai import OpenAI\n",
    "client=OpenAI(api_key=openai_api_key)\n",
    "MODEL=\"gpt-3.5-turbo\""
   ]
  },
  {
   "cell_type": "markdown",
   "metadata": {},
   "source": [
    "En el contexto de modelos de lenguaje como GPT-3.5-turbo, **temperature** y **seed** son dos parámetros importantes que influyen en el comportamiento y la salida del modelo.\n",
    "\n",
    "### **Temperature**:\n",
    "La **temperature** es un parámetro que controla el nivel de creatividad y aleatoriedad en las respuestas generadas por el modelo. Se utiliza para ajustar cuán predecible o impredecible serán las salidas del modelo. Su rango generalmente es de 0 a 2:\n",
    "\n",
    "- **Temperature baja (0 a 0.5)**: El modelo será más conservador y tiende a generar respuestas más deterministas y seguras. Por ejemplo, con una temperatura de 0, el modelo siempre dará la misma respuesta ante la misma entrada.\n",
    "  \n",
    "- **Temperature alta (mayor a 1)**: Genera más aleatoriedad en las respuestas. Esto significa que el modelo puede ser más creativo y menos predecible, lo que puede llevar a respuestas más variadas, pero a veces menos coherentes o más \"alucinadas\".\n",
    "  \n",
    "En tu ejemplo:\n",
    "\n",
    "```python\n",
    "temperature=0.1\n",
    "```\n",
    "\n",
    "Con un valor de **0.1**, el modelo estará ajustado para generar respuestas bastante seguras y coherentes, con muy poca aleatoriedad.\n",
    "\n",
    "### **Seed**:\n",
    "El parámetro **seed** es una semilla que controla el factor de **determinismo** en la generación de texto. Específicamente, se usa para asegurar que se obtenga la misma salida cada vez que se utiliza el mismo conjunto de entradas y parámetros.\n",
    "\n",
    "Cuando fijas una semilla con un valor numérico:\n",
    "\n",
    "```python\n",
    "seed=1234\n",
    "```\n",
    "\n",
    "Esto asegura que, siempre que ejecutes el mismo código con los mismos datos de entrada y la misma semilla, el modelo generará la misma respuesta. Es útil para la **reproducibilidad** de resultados, ya que si alguien más ejecuta el mismo código con la misma semilla, obtendrá la misma salida.\n",
    "\n",
    "Resumiendo:\n",
    "- **Temperature** ajusta el grado de creatividad y aleatoriedad en la generación de texto.\n",
    "- **Seed** asegura que las salidas del modelo sean reproducibles, generando los mismos resultados para las mismas entradas."
   ]
  },
  {
   "cell_type": "code",
   "execution_count": 7,
   "metadata": {},
   "outputs": [
    {
     "name": "stdout",
     "output_type": "stream",
     "text": [
      "¡Claro! Aquí tienes 5 consejos para monetizar tu canal de YouTube:\n",
      "\n",
      "1. Habilita la monetización: Para empezar a ganar dinero en YouTube, debes habilitar la monetización en tu canal. Esto te permitirá mostrar anuncios en tus videos y generar ingresos a través de la publicidad.\n",
      "\n",
      "2. Crea contenido de calidad: Es importante que tu contenido sea interesante, relevante y de alta calidad. Esto ayudará a atraer a más espectadores y a retener su atención, lo que a su vez aumentará tus ingresos por publicidad.\n",
      "\n",
      "3. Construye una audiencia fiel: Trabaja en construir una comunidad de seguidores comprometidos con tu contenido. Interactúa con tus espectadores, responde a sus comentarios y preguntas, y crea una relación de confianza con ellos.\n",
      "\n",
      "4. Diversifica tus fuentes de ingresos: Además de la publicidad en YouTube, considera otras formas de monetización, como el marketing de afiliación, la venta de productos o servicios propios, la creación de contenido patrocinado, entre otros.\n",
      "\n",
      "5. Promociona tu canal: Utiliza las redes sociales, el marketing de contenido y otras estrategias de promoción para dar a conocer tu canal y atraer a más espectadores. Cuanto más grande sea tu audiencia, mayores serán tus oportunidades de generar ingresos.\n",
      "\n",
      "¡Espero que estos consejos te sean útiles para monetizar tu canal de YouTube! ¡Buena suerte!\n"
     ]
    }
   ],
   "source": [
    "response = client.chat.completions.create(\n",
    "    model=MODEL,\n",
    "    messages=[\n",
    "        {'role':'system','content':'Eres un buen asistente de ayuda'},\n",
    "        {'role':'user','content':'Dame 5consejos para monetizar mi canal de youtube'},\n",
    "    ],\n",
    "    # temperature entre 0 y 2, por defecto 1 cuano más alto mayor la alucinación\n",
    "    temperature=0,\n",
    "    #seed=1234\n",
    "    \n",
    ")\n",
    "print(response.choices[0].message.content)"
   ]
  },
  {
   "cell_type": "code",
   "execution_count": 10,
   "metadata": {},
   "outputs": [
    {
     "name": "stdout",
     "output_type": "stream",
     "text": [
      "¡Claro! Aquí te dejo 5 consejos para monetizar tu canal de YouTube:\n",
      "\n",
      "1. Cumple con los requisitos: Para habilitar la monetización en tu canal, debes cumplir con ciertos requisitos establecidos por YouTube, como tener al menos 1,000 suscriptores y 4,000 horas de tiempo de visualización en los últimos 12 meses.\n",
      "\n",
      "2. Crea contenido de calidad: La clave para atraer a más espectadores y aumentar tus ingresos es crear contenido de calidad y que sea relevante para tu audiencia. Asegúrate de ofrecer videos interesantes, entretenidos y bien producidos.\n",
      "\n",
      "3. Utiliza la publicidad: La forma más común de monetizar un canal de YouTube es a través de la publicidad. Puedes activar la opción de mostrar anuncios en tus videos y así generar ingresos por cada vez que un espectador vea o haga clic en un anuncio.\n",
      "\n",
      "4. Colabora con marcas: Otra forma de monetizar tu canal es a través de colaboraciones con marcas. Puedes promocionar productos o servicios de empresas en tus videos a cambio de una compensación económica.\n",
      "\n",
      "5. Diversifica tus fuentes de ingresos: Además de la publicidad y las colaboraciones con marcas, puedes explorar otras formas de monetización, como la venta de merchandising, la creación de contenido exclusivo para suscriptores a través de YouTube Memberships o la participación en programas de afiliados.\n",
      "\n",
      "Recuerda que la constancia, la paciencia y la creatividad son clave para tener éxito en la monetización de tu canal de YouTube. ¡Buena suerte!\n"
     ]
    }
   ],
   "source": [
    "response = client.chat.completions.create(\n",
    "    model=MODEL,\n",
    "    messages=[\n",
    "        {'role':'system','content':'Eres un buen asistente de ayuda'},\n",
    "        {'role':'user','content':'Dame 5consejos para monetizar mi canal de youtube'},\n",
    "    ],\n",
    "    # temperature entre 0 y 2, por defecto 1 cuano más alto mayor la alucinación\n",
    "    temperature=0.9,\n",
    "    seed=1234\n",
    "    \n",
    ")\n",
    "print(response.choices[0].message.content)"
   ]
  },
  {
   "cell_type": "code",
   "execution_count": 11,
   "metadata": {},
   "outputs": [
    {
     "name": "stdout",
     "output_type": "stream",
     "text": [
      "¡Claro! Aquí te dejo 5 consejos para monetizar tu canal de YouTube:\n",
      "\n",
      "1. Cumple con los requisitos: Para habilitar la monetización en tu canal, debes cumplir con ciertos requisitos establecidos por YouTube, como tener al menos 1,000 suscriptores y 4,000 horas de tiempo de visualización en los últimos 12 meses.\n",
      "\n",
      "2. Crea contenido de calidad: La clave para atraer a más espectadores y aumentar tus ingresos es crear contenido de calidad y que sea relevante para tu audiencia. Asegúrate de ofrecer videos interesantes, entretenidos y bien producidos.\n",
      "\n",
      "3. Utiliza la publicidad: La forma más común de monetización en YouTube es a través de la publicidad. Puedes activar los anuncios en tus videos y generar ingresos por las visualizaciones y clics que generen.\n",
      "\n",
      "4. Colabora con marcas: Otra forma de monetizar tu canal es a través de colaboraciones con marcas. Puedes promocionar productos o servicios de manera profesional y transparente en tus videos a cambio de una compensación económica.\n",
      "\n",
      "5. Diversifica tus ingresos: Además de la publicidad y las colaboraciones con marcas, considera otras formas de ingresos como la venta de productos o servicios relacionados con tu contenido, la creación de contenido exclusivo para suscriptores a través de YouTube Memberships o Patreon, entre otras opciones.\n",
      "\n",
      "Recuerda que la monetización en YouTube lleva tiempo y esfuerzo, pero con constancia y dedicación, podrás alcanzar tus objetivos de ingresos. ¡Buena suerte!\n"
     ]
    }
   ],
   "source": [
    "response = client.chat.completions.create(\n",
    "    model=MODEL,\n",
    "    messages=[\n",
    "        {'role':'system','content':'Eres un buen asistente de ayuda'},\n",
    "        {'role':'user','content':'Dame 5consejos para monetizar mi canal de youtube'},\n",
    "    ],\n",
    "    # temperature entre 0 y 2, por defecto 1 cuano más alto mayor la alucinación\n",
    "    temperature=0.9,\n",
    "    seed=1234\n",
    "    \n",
    ")\n",
    "print(response.choices[0].message.content)"
   ]
  },
  {
   "cell_type": "markdown",
   "metadata": {},
   "source": [
    "### **Max Tokens:**\n",
    "\n",
    "El parámetro **`max_tokens`** controla la longitud máxima de la respuesta que el modelo de lenguaje generará. En términos simples, **tokens** son las piezas en las que se descompone el texto antes de procesarse por el modelo. Un **token** puede ser una palabra, una parte de una palabra o incluso un símbolo. Por ejemplo, la palabra \"chatbot\" podría contarse como un token, pero \"I'm\" (yo soy) se descompondría en dos tokens: \"I\" y \"'m\".\n",
    "\n",
    "- **Max tokens** define la cantidad total de tokens que puede usar el modelo, incluyendo tanto los tokens de entrada (el prompt) como los tokens de salida (la respuesta generada). Si defines un valor bajo para `max_tokens`, el modelo podrá generar respuestas más cortas, mientras que si defines un valor alto, el modelo podrá generar respuestas más largas.\n",
    "\n",
    "Ejemplo:\n",
    "```python\n",
    "response = client.chat.completions.create(\n",
    "    model='gpt-3.5-turbo',\n",
    "    messages=[{'role': 'user', 'content': 'Explícame qué es la inteligencia artificial'}],\n",
    "    max_tokens=50  # El modelo puede generar hasta 50 tokens como respuesta\n",
    ")\n",
    "```\n",
    "\n",
    "En este caso, el modelo se limitará a generar una respuesta de hasta 50 tokens. Si tu pregunta ya ocupa algunos tokens, el modelo solo usará el resto para la respuesta.\n",
    "\n",
    "### **Modelo más económico:**\n",
    "\n",
    "De los modelos de OpenAI, **`gpt-3.5-turbo`** es significativamente más **económico** que **`gpt-4-turbo`**.\n",
    "\n",
    "- **GPT-3.5-turbo**: Es más barato y también muy eficiente para tareas que no requieren demasiada complejidad o contexto extenso. Es ideal para usos generales, chats interactivos y tareas de procesamiento de lenguaje donde el costo es una preocupación importante.\n",
    "  \n",
    "- **GPT-4-turbo**: Aunque es más caro que GPT-3.5, ofrece una mejor capacidad de comprensión y generación de texto más largo y complejo. Se utiliza cuando se requiere mayor precisión, comprensión de contexto complejo o tareas especializadas.\n",
    "\n",
    "#### Comparación de costos:\n",
    "- **GPT-3.5-turbo** suele ser entre 10 y 15 veces más económico que **GPT-4-turbo**.\n",
    "- El costo se basa en la cantidad de tokens procesados (entrada + salida), por lo que cuanto más largo sea el texto, más tokens se consumirán y más costará.\n",
    "\n",
    "En resumen:\n",
    "- **`max_tokens`** controla la longitud máxima de la respuesta del modelo, limitando cuántos tokens (palabras o fragmentos de palabras) puede generar.\n",
    "- **`gpt-3.5-turbo`** es más económico que **`gpt-4-turbo`**, siendo una excelente opción para muchas tareas cotidianas con costos más bajos."
   ]
  },
  {
   "cell_type": "code",
   "execution_count": 20,
   "metadata": {},
   "outputs": [
    {
     "name": "stdout",
     "output_type": "stream",
     "text": [
      "ChatCompletion(id='chatcmpl-AAGwmiWdd00wQKtaoFGA47J0lAgpj', choices=[Choice(finish_reason='stop', index=0, logprobs=None, message=ChatCompletionMessage(content='\"1984\" es una novela distópica clásica escrita por George Orwell que ha dejado una huella indeleble en la literatura mundial. La historia se desarrolla en un futuro totalitario en el que el gobierno controla cada aspecto de la vida de los ciudadanos, utilizando la vigilancia y la represión para mantener el poder.\\n\\nLa obra sigue la vida de Winston Smith, un hombre que trabaja en el Ministerio de la Verdad y comienza a cuestionar el régimen opresivo en el que vive. A medida que intenta rebelarse contra el sistema, se ve atrapado en una red de traiciones y conspiraciones que lo llevan a enfrentar sus propios miedos y limitaciones.\\n\\nOrwell ofrece una crítica mordaz a los regímenes totalitarios y a la manipulación de la verdad, al tiempo que plantea preguntas profundas sobre la libertad individual y la resistencia ante la opresión. Su prosa es contundente y evocadora, creando una atmósfera oscura y perturbadora que acompaña al lector a lo largo de toda la novela.\\n\\nEn resumen, \"1984\" es una obra maestra literaria que sigue siendo relevante en la actualidad, recordándonos la importancia de la libertad y la verdad en un mundo dominado por el control y la manipulación. Es un libro que no deja indiferente y que invita a la reflexión sobre los peligros del poder absoluto y la vigilancia constante.', refusal=None, role='assistant', function_call=None, tool_calls=None))], created=1727011788, model='gpt-3.5-turbo-0125', object='chat.completion', service_tier=None, system_fingerprint=None, usage=CompletionUsage(completion_tokens=341, prompt_tokens=35, total_tokens=376, completion_tokens_details=CompletionTokensDetails(reasoning_tokens=0)))\n",
      "\"1984\" es una novela distópica clásica escrita por George Orwell que ha dejado una huella indeleble en la literatura mundial. La historia se desarrolla en un futuro totalitario en el que el gobierno controla cada aspecto de la vida de los ciudadanos, utilizando la vigilancia y la represión para mantener el poder.\n",
      "\n",
      "La obra sigue la vida de Winston Smith, un hombre que trabaja en el Ministerio de la Verdad y comienza a cuestionar el régimen opresivo en el que vive. A medida que intenta rebelarse contra el sistema, se ve atrapado en una red de traiciones y conspiraciones que lo llevan a enfrentar sus propios miedos y limitaciones.\n",
      "\n",
      "Orwell ofrece una crítica mordaz a los regímenes totalitarios y a la manipulación de la verdad, al tiempo que plantea preguntas profundas sobre la libertad individual y la resistencia ante la opresión. Su prosa es contundente y evocadora, creando una atmósfera oscura y perturbadora que acompaña al lector a lo largo de toda la novela.\n",
      "\n",
      "En resumen, \"1984\" es una obra maestra literaria que sigue siendo relevante en la actualidad, recordándonos la importancia de la libertad y la verdad en un mundo dominado por el control y la manipulación. Es un libro que no deja indiferente y que invita a la reflexión sobre los peligros del poder absoluto y la vigilancia constante.\n"
     ]
    }
   ],
   "source": [
    "response = client.chat.completions.create(\n",
    "    model='gpt-3.5-turbo',\n",
    "    messages=[\n",
    "        {'role':'system','content':'Eres un buen asistente de ayuda'},\n",
    "        {'role':'user','content':'Escribe una reseña del libro 1984 de George Orwell.'},\n",
    "    ],\n",
    "    max_tokens=500\n",
    ")\n",
    "print(response)\n",
    "print(response.choices[0].message.content)"
   ]
  },
  {
   "cell_type": "code",
   "execution_count": 21,
   "metadata": {},
   "outputs": [
    {
     "data": {
      "text/plain": [
       "CompletionUsage(completion_tokens=341, prompt_tokens=35, total_tokens=376, completion_tokens_details=CompletionTokensDetails(reasoning_tokens=0))"
      ]
     },
     "execution_count": 21,
     "metadata": {},
     "output_type": "execute_result"
    }
   ],
   "source": [
    "response.usage"
   ]
  },
  {
   "cell_type": "code",
   "execution_count": 22,
   "metadata": {},
   "outputs": [
    {
     "name": "stdout",
     "output_type": "stream",
     "text": [
      "\"1984\" de George Orwell es una novela distópica que nos lleva a un mundo totalitario y opresivo controlado por un gobierno autoritario. La historia sigue a Winston Smith, un hombre que trabaja en el Ministerio de la Verdad y que cuestiona la realidad y la verdad impuesta por el Partido.\n"
     ]
    }
   ],
   "source": [
    "response = client.chat.completions.create(\n",
    "    model='gpt-3.5-turbo',\n",
    "    messages=[\n",
    "        {'role':'system','content':'Eres un buen asistente de ayuda'},\n",
    "        {'role':'user','content':'Escribe una reseña del libro 1984 de George Orwell.'},\n",
    "    ],\n",
    "    max_tokens=500,\n",
    "    stop=\"\\n\"\n",
    ")\n",
    "print(response.choices[0].message.content)"
   ]
  },
  {
   "cell_type": "code",
   "execution_count": 23,
   "metadata": {},
   "outputs": [
    {
     "name": "stdout",
     "output_type": "stream",
     "text": [
      "\"1984\" de George Orwell es una obra literaria icónica que transcurre en un mundo distópico donde el gobierno totalitario controla todos los aspectos de la vida de sus ciudadanos\n"
     ]
    }
   ],
   "source": [
    "response = client.chat.completions.create(\n",
    "    model='gpt-3.5-turbo',\n",
    "    messages=[\n",
    "        {'role':'system', 'content':'Eres un buen asistente de ayuda'},\n",
    "        {'role':'user', 'content':'Escribe una reseña del libro 1984 de George Orwell'}\n",
    "    ],\n",
    "    stop=[\".\"]  # El modelo se detendrá al encontrar un punto.\n",
    ")\n",
    "print(response.choices[0].message.content)"
   ]
  },
  {
   "cell_type": "code",
   "execution_count": 24,
   "metadata": {},
   "outputs": [
    {
     "name": "stdout",
     "output_type": "stream",
     "text": [
      "Una noche soleada puede ser fresca y agradable. Aunque el sol ha desaparecido, la temperatura puede mantenerse cálida debido a la acumulación de calor del \n"
     ]
    }
   ],
   "source": [
    "response = client.chat.completions.create(\n",
    "    model='gpt-3.5-turbo',\n",
    "    messages=[\n",
    "        {'role':'system', 'content':'Eres un buen asistente de ayuda'},\n",
    "        {'role':'user', 'content':'Describe el clima de una noche soleada'}\n",
    "    ],\n",
    "    stop=[\"clima\", \"día\"]  # El modelo se detendrá si encuentra \"clima\" o \"día\".\n",
    ")\n",
    "print(response.choices[0].message.content)"
   ]
  }
 ],
 "metadata": {
  "kernelspec": {
   "display_name": ".venv",
   "language": "python",
   "name": "python3"
  },
  "language_info": {
   "codemirror_mode": {
    "name": "ipython",
    "version": 3
   },
   "file_extension": ".py",
   "mimetype": "text/x-python",
   "name": "python",
   "nbconvert_exporter": "python",
   "pygments_lexer": "ipython3",
   "version": "3.12.4"
  }
 },
 "nbformat": 4,
 "nbformat_minor": 2
}
