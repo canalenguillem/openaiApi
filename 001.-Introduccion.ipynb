{
 "cells": [
  {
   "cell_type": "code",
   "execution_count": 3,
   "metadata": {},
   "outputs": [
    {
     "name": "stdout",
     "output_type": "stream",
     "text": [
      "clave de openAI cargada correctamente\n"
     ]
    }
   ],
   "source": [
    "from dotenv import load_dotenv\n",
    "import os\n",
    "\n",
    "#CARGAR LAS VARIABLES DE ENTORNO\n",
    "load_dotenv()\n",
    "\n",
    "#obtener la api de openai\n",
    "openai_api_key=os.getenv(\"OPENAI_API_KEY\")\n",
    "\n",
    "#VERIFICAR API KEY\n",
    "if openai_api_key:\n",
    "    print(\"clave de openAI cargada correctamente\")\n",
    "else:\n",
    "    print(\"error cargando clave de openAI\")\n"
   ]
  },
  {
   "cell_type": "code",
   "execution_count": 4,
   "metadata": {},
   "outputs": [],
   "source": [
    "from openai import OpenAI\n",
    "client=OpenAI(api_key=openai_api_key)\n"
   ]
  },
  {
   "cell_type": "code",
   "execution_count": 8,
   "metadata": {},
   "outputs": [],
   "source": [
    "#for model in client.models.list():\n",
    "#    print(model)\n",
    "\n",
    "MODEL=\"gpt-3.5-turbo\""
   ]
  },
  {
   "cell_type": "code",
   "execution_count": null,
   "metadata": {},
   "outputs": [],
   "source": [
    "client.chat.completions.create(\n",
    "    model=MODEL,\n",
    "    messages=[\n",
    "        {'role':'system','content':'Eres un asistente virtual que me va a ayudar en muchos temas'},\n",
    "        {'role':'user','content':'La ecuación del campo de Einstein. ¿qué es?'}\n",
    "    ]\n",
    ")"
   ]
  }
 ],
 "metadata": {
  "kernelspec": {
   "display_name": ".venv",
   "language": "python",
   "name": "python3"
  },
  "language_info": {
   "codemirror_mode": {
    "name": "ipython",
    "version": 3
   },
   "file_extension": ".py",
   "mimetype": "text/x-python",
   "name": "python",
   "nbconvert_exporter": "python",
   "pygments_lexer": "ipython3",
   "version": "3.12.4"
  }
 },
 "nbformat": 4,
 "nbformat_minor": 2
}
