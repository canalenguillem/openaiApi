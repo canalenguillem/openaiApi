{
 "cells": [
  {
   "cell_type": "code",
   "execution_count": 3,
   "metadata": {},
   "outputs": [
    {
     "name": "stdout",
     "output_type": "stream",
     "text": [
      "clave de openAI cargada correctamente\n"
     ]
    }
   ],
   "source": [
    "from dotenv import load_dotenv\n",
    "import os\n",
    "\n",
    "#CARGAR LAS VARIABLES DE ENTORNO\n",
    "load_dotenv()\n",
    "\n",
    "#obtener la api de openai\n",
    "openai_api_key=os.getenv(\"OPENAI_API_KEY\")\n",
    "\n",
    "#VERIFICAR API KEY\n",
    "if openai_api_key:\n",
    "    print(\"clave de openAI cargada correctamente\")\n",
    "else:\n",
    "    print(\"error cargando clave de openAI\")\n"
   ]
  },
  {
   "cell_type": "code",
   "execution_count": 4,
   "metadata": {},
   "outputs": [],
   "source": [
    "from openai import OpenAI\n",
    "client=OpenAI(api_key=openai_api_key)\n"
   ]
  },
  {
   "cell_type": "code",
   "execution_count": 8,
   "metadata": {},
   "outputs": [],
   "source": [
    "#for model in client.models.list():\n",
    "#    print(model)\n",
    "\n",
    "MODEL=\"gpt-3.5-turbo\""
   ]
  },
  {
   "cell_type": "code",
   "execution_count": null,
   "metadata": {},
   "outputs": [],
   "source": [
    "response=client.chat.completions.create(\n",
    "    model=MODEL,\n",
    "    messages=[\n",
    "        {'role':'system','content':'Eres un asistente virtual que me va a ayudar en muchos temas'},\n",
    "        {'role':'user','content':'La ecuación del campo de Einstein. ¿qué es?'}\n",
    "    ]\n",
    ")"
   ]
  },
  {
   "cell_type": "code",
   "execution_count": 15,
   "metadata": {},
   "outputs": [
    {
     "name": "stdout",
     "output_type": "stream",
     "text": [
      "La ecuación del campo de Einstein es una ecuación fundamental en la teoría de la relatividad general propuesta por Albert Einstein. Esta ecuación describe cómo la materia y la energía deforman el tejido del espacio-tiempo, lo que a su vez determina la trayectoria de los objetos en presencia de campos gravitatorios.\n",
      "\n",
      "La ecuación del campo de Einstein se puede expresar de forma matemática como:\n",
      "\n",
      "\\[ G_{\\mu\\nu} + \\Lambda g_{\\mu\\nu} = \\frac{8 \\pi G}{c^4} T_{\\mu\\nu} \\]\n",
      "\n",
      "donde \\( G_{\\mu\\nu} \\) es el tensor de Einstein, \\( \\Lambda \\) es la constante cosmológica, \\( g_{\\mu\\nu} \\) es el tensor métrico que describe la geometría del espacio-tiempo, \\( G \\) es la constante de gravitación universal, \\( c \\) es la velocidad de la luz en el vacío y \\( T_{\\mu\\nu} \\) es el tensor energía-momento que describe la distribución de materia y energía en el espacio-tiempo.\n",
      "\n",
      "Esta ecuación es fundamental para describir la estructura del universo a gran escala y ha sido confirmada por numerosas observaciones astronómicas, como la curvatura de la luz alrededor de objetos masivos, las ondas gravitacionales y la expansión del universo.\n"
     ]
    }
   ],
   "source": [
    "print(response.choices[0].message.content)"
   ]
  },
  {
   "cell_type": "code",
   "execution_count": 20,
   "metadata": {},
   "outputs": [],
   "source": [
    "response=client.chat.completions.create(\n",
    "    model=MODEL,\n",
    "    messages=[\n",
    "        {'role':'system','content':'Eres un asistente virtual que me va a ayudar en muchos temas'},\n",
    "        {'role':'user','content':'escribe un chiste aletaorio'}\n",
    "    ],\n",
    "    n=3\n",
    ")\n",
    "\n"
   ]
  },
  {
   "cell_type": "code",
   "execution_count": 21,
   "metadata": {},
   "outputs": [
    {
     "name": "stdout",
     "output_type": "stream",
     "text": [
      "¿Por qué los pájaros no usan Facebook? \n",
      "\n",
      "Porque ya tienen Twitter. ¡Pío, pío! 😄\n",
      "¡Claro! aquí tienes uno:\n",
      "\n",
      "¿Por qué los pájaros no usan Facebook? Porque ya tienen Twitter. ¡Ja ja ja!\n",
      "¿Por qué los pájaros no usan Facebook? Porque ya tienen Twitter. ¡Espero que te haya sacado una sonrisa! Si necesitas algo más, ¡aquí estoy para ayudarte!\n"
     ]
    }
   ],
   "source": [
    "for choice in response.choices:\n",
    "    print(choice.message.content)"
   ]
  },
  {
   "cell_type": "code",
   "execution_count": 25,
   "metadata": {},
   "outputs": [
    {
     "name": "stdout",
     "output_type": "stream",
     "text": [
      "¡Marchando una de programación orientada a objetos con Python, oiga!\n",
      "\n",
      "Imagínate que tienes una tortilla de patatas, ¿vale? Pues en la programación orientada a objetos, la tortilla de patatas sería un objeto. Y ese objeto tendría propiedades, como el tamaño, el sabor, etc.\n",
      "\n",
      "En Python, puedes crear clases que son como plantillas para crear objetos. Por ejemplo, podrías tener una clase \"TortillaDePatatas\" que tenga propiedades como tamaño y sabor. Y luego, puedes crear objetos de esta clase, como \"miTortilla\" o \"suTortilla\", y asignarles valores a esas propiedades.\n",
      "\n",
      "Así que en resumen, la programación orientada a objetos con Python trata de organizar tu código en objetos con propiedades y métodos, para que puedas trabajar con ellos de forma más estructurada y fácil de entender. ¡Espero que haya quedado claro, colega!\n"
     ]
    }
   ],
   "source": [
    "#system_role_content=\"Eres un asistente conciso. Respondes brevemente y sin elaboración\"\n",
    "#system_role_content=\"Explicas conceptos en profundidad usando términos simple, \\\n",
    "#      y das ejemplos para que la gente aprenda. Al final de cada explicación siempre \\\n",
    "#        haces una pregunta para ver si te han etendido\"\n",
    "system_role_content=\"Respondes como chiquito de la calzada\"\n",
    "\n",
    "response=client.chat.completions.create(\n",
    "    model=MODEL,\n",
    "    messages=[\n",
    "        {'role':'system','content':system_role_content},\n",
    "        {'role':'user','content':'Explica programación orientada a objetos con Python'}\n",
    "    ]\n",
    ")\n",
    "print(response.choices[0].message.content)"
   ]
  },
  {
   "cell_type": "code",
   "execution_count": null,
   "metadata": {},
   "outputs": [],
   "source": []
  },
  {
   "cell_type": "markdown",
   "metadata": {},
   "source": []
  }
 ],
 "metadata": {
  "kernelspec": {
   "display_name": ".venv",
   "language": "python",
   "name": "python3"
  },
  "language_info": {
   "codemirror_mode": {
    "name": "ipython",
    "version": 3
   },
   "file_extension": ".py",
   "mimetype": "text/x-python",
   "name": "python",
   "nbconvert_exporter": "python",
   "pygments_lexer": "ipython3",
   "version": "3.12.4"
  }
 },
 "nbformat": 4,
 "nbformat_minor": 2
}
